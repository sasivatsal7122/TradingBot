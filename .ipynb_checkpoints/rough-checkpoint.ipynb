{
 "cells": [
  {
   "cell_type": "markdown",
   "id": "ffb00d7c",
   "metadata": {},
   "source": [
    "# Imports"
   ]
  },
  {
   "cell_type": "code",
   "execution_count": 3,
   "id": "37cc8e91",
   "metadata": {},
   "outputs": [],
   "source": [
    "from datetime import datetime, timedelta\n",
    "import requests\n",
    "import configparser"
   ]
  },
  {
   "cell_type": "markdown",
   "id": "765bce11",
   "metadata": {},
   "source": [
    "# Reading config file"
   ]
  },
  {
   "cell_type": "code",
   "execution_count": 4,
   "id": "81a927f5",
   "metadata": {},
   "outputs": [],
   "source": [
    "config = configparser.ConfigParser()\n",
    "config.read('config.ini')\n",
    "\n",
    "API_KEY = config['Data']['API_KEY']\n",
    "\n",
    "stocktickers = config['Data']['stockticker'].split(\",\")\n",
    "smaWindows = config['Data']['sma window'].split(\",\")\n",
    "emaWindows = config['Data']['ema window'].split(\",\")\n",
    "timespans = config['Data']['timespan'].split(\",\")"
   ]
  },
  {
   "cell_type": "code",
   "execution_count": 5,
   "id": "785af885",
   "metadata": {},
   "outputs": [
    {
     "data": {
      "text/plain": [
       "'yLWSDeeyHmpMu9V5JkEC8x7i8V5rm2fd'"
      ]
     },
     "execution_count": 5,
     "metadata": {},
     "output_type": "execute_result"
    }
   ],
   "source": [
    "API_KEY"
   ]
  },
  {
   "cell_type": "code",
   "execution_count": 6,
   "id": "c960a4ea",
   "metadata": {
    "scrolled": true
   },
   "outputs": [
    {
     "name": "stdout",
     "output_type": "stream",
     "text": [
      "['AAPL'] ['50', '200'] ['9', '3'] ['day', 'week', 'month']\n"
     ]
    }
   ],
   "source": [
    "print(stocktickers,smaWindows,emaWindows,timespans)"
   ]
  },
  {
   "cell_type": "markdown",
   "id": "8269fec4",
   "metadata": {},
   "source": [
    "# Daily Open and Close"
   ]
  },
  {
   "cell_type": "code",
   "execution_count": 25,
   "id": "062d3a6f",
   "metadata": {},
   "outputs": [],
   "source": [
    "def getOpenandClose(stockTicker):\n",
    "    current_date = datetime.now()\n",
    "    day_before = current_date - timedelta(days=1)\n",
    "    TIMESTAMP = day_before.strftime('%Y-%m-%d')\n",
    "    res = requests.get(f\"https://api.polygon.io/v1/open-close/{stockTicker}/{TIMESTAMP}?adjusted=true&apiKey={API_KEY}\")\n",
    "    return res.json()"
   ]
  },
  {
   "cell_type": "code",
   "execution_count": 26,
   "id": "7878a0b6",
   "metadata": {},
   "outputs": [],
   "source": [
    "openClose = getOpenandClose(stocktickers[0])"
   ]
  },
  {
   "cell_type": "code",
   "execution_count": 27,
   "id": "32b9e750",
   "metadata": {},
   "outputs": [
    {
     "data": {
      "text/plain": [
       "{'status': 'OK',\n",
       " 'from': '2023-09-21',\n",
       " 'symbol': 'AAPL',\n",
       " 'open': 174.55,\n",
       " 'high': 176.3,\n",
       " 'low': 173.86,\n",
       " 'close': 173.93,\n",
       " 'volume': 62449116.0,\n",
       " 'afterHours': 174.14,\n",
       " 'preMarket': 175.01}"
      ]
     },
     "execution_count": 27,
     "metadata": {},
     "output_type": "execute_result"
    }
   ],
   "source": [
    "openClose"
   ]
  },
  {
   "cell_type": "markdown",
   "id": "1abc4a8e",
   "metadata": {},
   "source": [
    "# Simple Moving Average"
   ]
  },
  {
   "cell_type": "code",
   "execution_count": 28,
   "id": "182461f8",
   "metadata": {},
   "outputs": [],
   "source": [
    "class getSMA:\n",
    "    def __init__(self, stockTicker):\n",
    "        self.stockTicker = stockTicker\n",
    "        \n",
    "    def getDay(self,window):\n",
    "        URL = f\"https://api.polygon.io/v1/indicators/sma/{self.stockTicker}?timespan=day&adjusted=true&window={window}&series_type=close&order=desc&apiKey={API_KEY}\"\n",
    "        res = requests.get(URL)\n",
    "        return res.json()\n",
    "    def getWeek(self,window):\n",
    "        URL = f\"https://api.polygon.io/v1/indicators/sma/{self.stockTicker}?timespan=week&adjusted=true&window={window}&series_type=close&order=desc&apiKey={API_KEY}\"\n",
    "        res = requests.get(URL)\n",
    "        return res.json()\n",
    "    "
   ]
  },
  {
   "cell_type": "code",
   "execution_count": 30,
   "id": "ddcc4bdb",
   "metadata": {},
   "outputs": [],
   "source": [
    "smaDay_50 = getSMA(stocktickers[0]).getDay(50)\n",
    "smaWeek_50 = getSMA(stocktickers[0]).getWeek(50)\n",
    "\n",
    "smaDay_200 = getSMA(stocktickers[0]).getDay(200)"
   ]
  },
  {
   "cell_type": "markdown",
   "id": "3e76951f",
   "metadata": {},
   "source": [
    "# Exponential Moving Average"
   ]
  },
  {
   "cell_type": "code",
   "execution_count": 1,
   "id": "3a40cb95",
   "metadata": {},
   "outputs": [],
   "source": [
    "class getEMA:\n",
    "    def __init__(self, stockTicker):\n",
    "        self.stockTicker = stockTicker\n",
    "        \n",
    "    def getDay(self,window):\n",
    "        URL = f\"https://api.polygon.io/v1/indicators/ema/{self.stockTicker}?timespan=day&adjusted=true&window={window}&series_type=close&order=desc&apiKey={API_KEY}\"\n",
    "        res = requests.get(URL)\n",
    "        return res.json()\n",
    "    def getWeek(self,window):\n",
    "        URL = f\"https://api.polygon.io/v1/indicators/ema/{self.stockTicker}?timespan=week&adjusted=true&window={window}&series_type=close&order=desc&apiKey={API_KEY}\"\n",
    "        res = requests.get(URL)\n",
    "        return res.json()\n",
    "    def getMonth(self,window):\n",
    "        URL = f\"https://api.polygon.io/v1/indicators/ema/{self.stockTicker}?timespan=month&adjusted=true&window={window}&series_type=close&order=desc&apiKey={API_KEY}\"\n",
    "        res = requests.get(URL)\n",
    "        return res.json()\n",
    "    "
   ]
  },
  {
   "cell_type": "code",
   "execution_count": 7,
   "id": "53836dc4",
   "metadata": {},
   "outputs": [],
   "source": [
    "emaDay_3 = getEMA(stocktickers[0]).getDay(3)\n",
    "emaWeek_3 = getEMA(stocktickers[0]).getWeek(3)\n",
    "emaMonth_3 = getEMA(stocktickers[0]).getMonth(3)\n",
    "\n",
    "\n",
    "emaDay_9 = getEMA(stocktickers[0]).getDay(9)\n",
    "emaWeek_9 = getEMA(stocktickers[0]).getWeek(9)\n",
    "emaMonth_9 = getEMA(stocktickers[0]).getMonth(9)"
   ]
  },
  {
   "cell_type": "markdown",
   "id": "86a8928b",
   "metadata": {},
   "source": [
    "# Moving Average Convergence/Divergence (MACD)"
   ]
  },
  {
   "cell_type": "code",
   "execution_count": 14,
   "id": "8b4d600a",
   "metadata": {},
   "outputs": [],
   "source": [
    "class getMACD:\n",
    "    def __init__(self, stockTicker):\n",
    "        self.stockTicker = stockTicker\n",
    "        \n",
    "    def getDay(self):\n",
    "        URL = f\"https://api.polygon.io/v1/indicators/macd/{self.stockTicker}?timespan=day&adjusted=true&short_window=12&long_window=26&signal_window=9&series_type=close&order=desc&apiKey={API_KEY}\"\n",
    "        res = requests.get(URL)\n",
    "        return res.json()\n",
    "    def getWeek(self):\n",
    "        URL = f\"https://api.polygon.io/v1/indicators/macd/{self.stockTicker}?timespan=week&adjusted=true&short_window=12&long_window=26&signal_window=9&series_type=close&order=desc&apiKey={API_KEY}\"\n",
    "        res = requests.get(URL)\n",
    "        return res.json()\n",
    "    "
   ]
  },
  {
   "cell_type": "code",
   "execution_count": 15,
   "id": "08c13426",
   "metadata": {},
   "outputs": [],
   "source": [
    "macd_day = getMACD(stocktickers[0]).getDay()\n",
    "macd_week = getMACD(stocktickers[0]).getWeek()"
   ]
  },
  {
   "cell_type": "markdown",
   "id": "d43c62e5",
   "metadata": {},
   "source": [
    "# Relative Strength Index (RSI)"
   ]
  },
  {
   "cell_type": "code",
   "execution_count": 19,
   "id": "b4e017e8",
   "metadata": {},
   "outputs": [],
   "source": [
    "class getRSI:\n",
    "    def __init__(self, stockTicker):\n",
    "        self.stockTicker = stockTicker\n",
    "        \n",
    "    def getDay(self):\n",
    "        URL = f\"https://api.polygon.io/v1/indicators/rsi/{self.stockTicker}?timespan=day&adjusted=true&window=14&series_type=close&order=desc&apiKey={API_KEY}\"\n",
    "        res = requests.get(URL)\n",
    "        return res.json()\n",
    "    def getWeek(self):\n",
    "        URL = f\"https://api.polygon.io/v1/indicators/rsi/{self.stockTicker}?timespan=week&adjusted=true&window=14&series_type=close&order=desc&apiKey={API_KEY}\"\n",
    "        res = requests.get(URL)\n",
    "        return res.json()\n",
    "    def getMonth(self):\n",
    "        URL = f\"https://api.polygon.io/v1/indicators/rsi/{self.stockTicker}?timespan=month&adjusted=true&window=14&series_type=close&order=desc&apiKey={API_KEY}\"\n",
    "        res = requests.get(URL)\n",
    "        return res.json()\n",
    "    "
   ]
  },
  {
   "cell_type": "code",
   "execution_count": 20,
   "id": "bd756d33",
   "metadata": {},
   "outputs": [],
   "source": [
    "rsi_day = getRSI(stocktickers[0]).getDay()\n",
    "rsi_week = getRSI(stocktickers[0]).getWeek()\n",
    "rsi_month = getRSI(stocktickers[0]).getMonth()"
   ]
  },
  {
   "cell_type": "code",
   "execution_count": 45,
   "id": "60a19d64",
   "metadata": {},
   "outputs": [],
   "source": [
    "masterData = {\n",
    "    stocktickers[0]:{\n",
    "        \"open_close\": openClose,\n",
    "        \n",
    "        \"SMA\" : {\n",
    "            \"window_50\":{\n",
    "                \"day\":smaDay_50,\n",
    "                \"week\":smaWeek_50\n",
    "            },\n",
    "            \"window_200\":{\n",
    "                \"day\":smaDay_200\n",
    "            }\n",
    "            \n",
    "        },\n",
    "        \n",
    "        \"EMA\": {\n",
    "            \"window_3\":{\n",
    "                \"day\":emaDay_3,\n",
    "                \"week\":emaWeek_3,\n",
    "                \"month\":emaMonth_3\n",
    "            },\n",
    "            \"window_9\":{\n",
    "                \"day\":emaDay_9,\n",
    "                \"week\":emaWeek_9,\n",
    "                \"month\":emaMonth_9\n",
    "            }\n",
    "        },\n",
    "        \n",
    "        \"MACD\": {\n",
    "            \"day\":macd_day,\n",
    "            \"week\":macd_week\n",
    "        },\n",
    "        \n",
    "        \"RSI\": {\n",
    "            \"day\":rsi_day,\n",
    "            \"week\":rsi_week,\n",
    "            \"month\":rsi_month\n",
    "        }\n",
    "        \n",
    "    }\n",
    "}"
   ]
  },
  {
   "cell_type": "code",
   "execution_count": 51,
   "id": "a0e93a58",
   "metadata": {},
   "outputs": [],
   "source": [
    "import json\n",
    "with open('result.json', 'w') as fp:\n",
    "    json.dump(masterData, fp,indent=4)"
   ]
  },
  {
   "cell_type": "code",
   "execution_count": 49,
   "id": "61d10757",
   "metadata": {
    "scrolled": true
   },
   "outputs": [
    {
     "name": "stdout",
     "output_type": "stream",
     "text": [
      "{'AAPL': {'open_close': {'status': 'OK', 'from': '2023-09-21', 'symbol': 'AAPL', 'open': 174.55, 'high': 176.3, 'low': 173.86, 'close': 173.93, 'volume': 62449116.0, 'afterHours': 174.14, 'preMarket': 175.01}, 'SMA': {'window_50': {'day': {'results': {'underlying': {'url': 'https://api.polygon.io/v2/aggs/ticker/AAPL/range/1/day/1063281600000/1695372940334?limit=235&sort=desc'}, 'values': [{'timestamp': 1695268800000, 'value': 183.4511}, {'timestamp': 1695182400000, 'value': 183.78330000000003}, {'timestamp': 1695096000000, 'value': 184.06890000000004}, {'timestamp': 1695009600000, 'value': 184.24910000000003}, {'timestamp': 1694750400000, 'value': 184.46190000000007}, {'timestamp': 1694664000000, 'value': 184.77530000000007}, {'timestamp': 1694577600000, 'value': 185.09670000000006}, {'timestamp': 1694491200000, 'value': 185.43910000000008}, {'timestamp': 1694404800000, 'value': 185.76230000000007}, {'timestamp': 1694145600000, 'value': 186.05450000000005}]}, 'status': 'OK', 'request_id': 'f2f5b8028111692a28cf7a4999290f8e', 'next_url': 'https://api.polygon.io/v1/indicators/sma/AAPL?cursor=YWRqdXN0ZWQ9dHJ1ZSZhcD0lN0IlMjJ2JTIyJTNBMCUyQyUyMm8lMjIlM0EwJTJDJTIyYyUyMiUzQTE3Ny41NiUyQyUyMmglMjIlM0EwJTJDJTIybCUyMiUzQTAlMkMlMjJ0JTIyJTNBMTY5NDA1OTIwMDAwMCU3RCZhcz0mZXhwYW5kX3VuZGVybHlpbmc9ZmFsc2UmbGltaXQ9MTAmb3JkZXI9ZGVzYyZzZXJpZXNfdHlwZT1jbG9zZSZ0aW1lc3Bhbj1kYXkmdGltZXN0YW1wLmx0PTE2OTQxNDU2MDAwMDAmd2luZG93PTUw'}, 'week': {'results': {'underlying': {'url': 'https://api.polygon.io/v2/aggs/ticker/AAPL/range/1/week/1063281600000/1695372942288?limit=1645&sort=desc'}, 'values': [{'timestamp': 1694923200000, 'value': 162.703}, {'timestamp': 1694318400000, 'value': 162.02620000000002}, {'timestamp': 1693713600000, 'value': 161.29}, {'timestamp': 1693108800000, 'value': 160.735}, {'timestamp': 1692504000000, 'value': 159.9598}, {'timestamp': 1691899200000, 'value': 159.53500000000003}, {'timestamp': 1691294400000, 'value': 159.16140000000004}, {'timestamp': 1690689600000, 'value': 158.87800000000004}, {'timestamp': 1690084800000, 'value': 158.66860000000005}, {'timestamp': 1689480000000, 'value': 158.19400000000005}]}, 'status': 'OK', 'request_id': '21e8878d197793774bdff199a5849f1c', 'next_url': 'https://api.polygon.io/v1/indicators/sma/AAPL?cursor=YWRqdXN0ZWQ9dHJ1ZSZhcD0lN0IlMjJ2JTIyJTNBMCUyQyUyMm8lMjIlM0EwJTJDJTIyYyUyMiUzQTE5MC42OSUyQyUyMmglMjIlM0EwJTJDJTIybCUyMiUzQTAlMkMlMjJ0JTIyJTNBMTY4ODg3NTIwMDAwMCU3RCZhcz0mZXhwYW5kX3VuZGVybHlpbmc9ZmFsc2UmbGltaXQ9MTAmb3JkZXI9ZGVzYyZzZXJpZXNfdHlwZT1jbG9zZSZ0aW1lc3Bhbj13ZWVrJnRpbWVzdGFtcC5sdD0xNjg5NDgwMDAwMDAwJndpbmRvdz01MA'}}, 'window_200': {'day': {'results': {'underlying': {'url': 'https://api.polygon.io/v2/aggs/ticker/AAPL/range/1/day/1063281600000/1695372943526?limit=903&sort=desc'}, 'values': [{'timestamp': 1695268800000, 'value': 165.50090000000014}, {'timestamp': 1695182400000, 'value': 165.36440000000013}, {'timestamp': 1695096000000, 'value': 165.22600000000014}, {'timestamp': 1695009600000, 'value': 165.07220000000012}, {'timestamp': 1694750400000, 'value': 164.9225000000001}, {'timestamp': 1694664000000, 'value': 164.75330000000008}, {'timestamp': 1694577600000, 'value': 164.5957000000001}, {'timestamp': 1694491200000, 'value': 164.46520000000012}, {'timestamp': 1694404800000, 'value': 164.3390500000001}, {'timestamp': 1694145600000, 'value': 164.1931500000001}]}, 'status': 'OK', 'request_id': 'f59957dc12e2a17196eb60253db26881', 'next_url': 'https://api.polygon.io/v1/indicators/sma/AAPL?cursor=YWRqdXN0ZWQ9dHJ1ZSZhcD0lN0IlMjJ2JTIyJTNBMCUyQyUyMm8lMjIlM0EwJTJDJTIyYyUyMiUzQTE3Ny41NiUyQyUyMmglMjIlM0EwJTJDJTIybCUyMiUzQTAlMkMlMjJ0JTIyJTNBMTY5NDA1OTIwMDAwMCU3RCZhcz0mZXhwYW5kX3VuZGVybHlpbmc9ZmFsc2UmbGltaXQ9MTAmb3JkZXI9ZGVzYyZzZXJpZXNfdHlwZT1jbG9zZSZ0aW1lc3Bhbj1kYXkmdGltZXN0YW1wLmx0PTE2OTQxNDU2MDAwMDAmd2luZG93PTIwMA'}}}, 'EMA': {'window_3': {'day': {'results': {'underlying': {'url': 'https://api.polygon.io/v2/aggs/ticker/AAPL/range/1/day/1063281600000/1695371489125?limit=26&sort=desc'}, 'values': [{'timestamp': 1695268800000, 'value': 175.31082242764535}, {'timestamp': 1695182400000, 'value': 176.69164485529066}, {'timestamp': 1695096000000, 'value': 177.8932897105813}, {'timestamp': 1695009600000, 'value': 176.7165794211626}, {'timestamp': 1694750400000, 'value': 175.4631588423252}, {'timestamp': 1694664000000, 'value': 175.91631768465044}, {'timestamp': 1694577600000, 'value': 176.09263536930087}, {'timestamp': 1694491200000, 'value': 177.9752707386017}, {'timestamp': 1694404800000, 'value': 179.65054147720338}, {'timestamp': 1694145600000, 'value': 179.94108295440674}]}, 'status': 'OK', 'request_id': 'bf0e5fca7a8690839c9148498e794f7e', 'next_url': 'https://api.polygon.io/v1/indicators/ema/AAPL?cursor=YWRqdXN0ZWQ9dHJ1ZSZhcD0lN0IlMjJ2JTIyJTNBMCUyQyUyMm8lMjIlM0EwJTJDJTIyYyUyMiUzQTE3Ny41NiUyQyUyMmglMjIlM0EwJTJDJTIybCUyMiUzQTAlMkMlMjJ0JTIyJTNBMTY5NDA1OTIwMDAwMCU3RCZhcz0mZXhwYW5kX3VuZGVybHlpbmc9ZmFsc2UmbGltaXQ9MTAmb3JkZXI9ZGVzYyZzZXJpZXNfdHlwZT1jbG9zZSZ0aW1lc3Bhbj1kYXkmdGltZXN0YW1wLmx0PTE2OTQxNDU2MDAwMDAmd2luZG93PTM'}, 'week': {'results': {'underlying': {'url': 'https://api.polygon.io/v2/aggs/ticker/AAPL/range/1/week/1063281600000/1695371495949?limit=182&sort=desc'}, 'values': [{'timestamp': 1694923200000, 'value': 175.99487393434737}, {'timestamp': 1694318400000, 'value': 178.05974786869476}, {'timestamp': 1693713600000, 'value': 181.10949573738952}, {'timestamp': 1693108800000, 'value': 184.03899147477904}, {'timestamp': 1692504000000, 'value': 178.61798294955807}, {'timestamp': 1691899200000, 'value': 178.62596589911612}, {'timestamp': 1691294400000, 'value': 182.76193179823224}, {'timestamp': 1690689600000, 'value': 187.73386359646452}, {'timestamp': 1690084800000, 'value': 193.47772719292902}, {'timestamp': 1689480000000, 'value': 191.12545438585803}]}, 'status': 'OK', 'request_id': '59c9662c319c623f4cd8b8c09f35d975', 'next_url': 'https://api.polygon.io/v1/indicators/ema/AAPL?cursor=YWRqdXN0ZWQ9dHJ1ZSZhcD0lN0IlMjJ2JTIyJTNBMCUyQyUyMm8lMjIlM0EwJTJDJTIyYyUyMiUzQTE5MC42OSUyQyUyMmglMjIlM0EwJTJDJTIybCUyMiUzQTAlMkMlMjJ0JTIyJTNBMTY4ODg3NTIwMDAwMCU3RCZhcz0mZXhwYW5kX3VuZGVybHlpbmc9ZmFsc2UmbGltaXQ9MTAmb3JkZXI9ZGVzYyZzZXJpZXNfdHlwZT1jbG9zZSZ0aW1lc3Bhbj13ZWVrJnRpbWVzdGFtcC5sdD0xNjg5NDgwMDAwMDAwJndpbmRvdz0z'}, 'month': {'results': {'underlying': {'url': 'https://api.polygon.io/v2/aggs/ticker/AAPL/range/1/month/1063281600000/1695371512378?limit=806&sort=desc'}, 'values': [{'timestamp': 1693540800000, 'value': 181.22060889363289}, {'timestamp': 1690862400000, 'value': 188.51121778726576}, {'timestamp': 1688184000000, 'value': 189.15243557453155}, {'timestamp': 1685592000000, 'value': 181.85487114906311}, {'timestamp': 1682913600000, 'value': 169.7397422981262}, {'timestamp': 1680321600000, 'value': 162.22948459625243}, {'timestamp': 1677646800000, 'value': 154.77896919250486}, {'timestamp': 1675227600000, 'value': 144.65793838500974}, {'timestamp': 1672549200000, 'value': 141.90587677001952}, {'timestamp': 1669870800000, 'value': 139.52175354003907}]}, 'status': 'OK', 'request_id': 'f9d00c67fdb8ab1bf7b27ae2d2f3b76a', 'next_url': 'https://api.polygon.io/v1/indicators/ema/AAPL?cursor=YWRqdXN0ZWQ9dHJ1ZSZhcD0lN0IlMjJ2JTIyJTNBMCUyQyUyMm8lMjIlM0EwJTJDJTIyYyUyMiUzQTE0OC4wMyUyQyUyMmglMjIlM0EwJTJDJTIybCUyMiUzQTAlMkMlMjJ0JTIyJTNBMTY2NzI3NTIwMDAwMCU3RCZhcz0mZXhwYW5kX3VuZGVybHlpbmc9ZmFsc2UmbGltaXQ9MTAmb3JkZXI9ZGVzYyZzZXJpZXNfdHlwZT1jbG9zZSZ0aW1lc3Bhbj1tb250aCZ0aW1lc3RhbXAubHQ9MTY2OTg3MDgwMDAwMCZ3aW5kb3c9Mw'}}, 'window_9': {'day': {'results': {'underlying': {'url': 'https://api.polygon.io/v2/aggs/ticker/AAPL/range/1/day/1063281600000/1695371515225?limit=53&sort=desc'}, 'values': [{'timestamp': 1695268800000, 'value': 176.8649043582657}, {'timestamp': 1695182400000, 'value': 177.5986304478321}, {'timestamp': 1695096000000, 'value': 178.1257880597901}, {'timestamp': 1695009600000, 'value': 177.88973507473762}, {'timestamp': 1694750400000, 'value': 177.869668843422}, {'timestamp': 1694664000000, 'value': 178.58458605427748}, {'timestamp': 1694577600000, 'value': 179.29573256784684}, {'timestamp': 1694491200000, 'value': 180.56716570980853}, {'timestamp': 1694404800000, 'value': 181.63395713726064}, {'timestamp': 1694145600000, 'value': 182.2024464215758}]}, 'status': 'OK', 'request_id': '0cf152f88ed36e864f2fb5143dffea08', 'next_url': 'https://api.polygon.io/v1/indicators/ema/AAPL?cursor=YWRqdXN0ZWQ9dHJ1ZSZhcD0lN0IlMjJ2JTIyJTNBMCUyQyUyMm8lMjIlM0EwJTJDJTIyYyUyMiUzQTE3Ny41NiUyQyUyMmglMjIlM0EwJTJDJTIybCUyMiUzQTAlMkMlMjJ0JTIyJTNBMTY5NDA1OTIwMDAwMCU3RCZhcz0mZXhwYW5kX3VuZGVybHlpbmc9ZmFsc2UmbGltaXQ9MTAmb3JkZXI9ZGVzYyZzZXJpZXNfdHlwZT1jbG9zZSZ0aW1lc3Bhbj1kYXkmdGltZXN0YW1wLmx0PTE2OTQxNDU2MDAwMDAmd2luZG93PTk'}, 'week': {'results': {'underlying': {'url': 'https://api.polygon.io/v2/aggs/ticker/AAPL/range/1/week/1063281600000/1695371517591?limit=371&sort=desc'}, 'values': [{'timestamp': 1694923200000, 'value': 179.55525394004223}, {'timestamp': 1694318400000, 'value': 180.96156742505278}, {'timestamp': 1693713600000, 'value': 182.44945928131597}, {'timestamp': 1693108800000, 'value': 183.51682410164494}, {'timestamp': 1692504000000, 'value': 182.03103012705617}, {'timestamp': 1691899200000, 'value': 182.88628765882018}, {'timestamp': 1691294400000, 'value': 184.98535957352522}, {'timestamp': 1690689600000, 'value': 186.78419946690653}, {'timestamp': 1690084800000, 'value': 187.98274933363317}, {'timestamp': 1689480000000, 'value': 186.02093666704144}]}, 'status': 'OK', 'request_id': '0d14c6d944f5f7846c33aedb6b90a414', 'next_url': 'https://api.polygon.io/v1/indicators/ema/AAPL?cursor=YWRqdXN0ZWQ9dHJ1ZSZhcD0lN0IlMjJ2JTIyJTNBMCUyQyUyMm8lMjIlM0EwJTJDJTIyYyUyMiUzQTE5MC42OSUyQyUyMmglMjIlM0EwJTJDJTIybCUyMiUzQTAlMkMlMjJ0JTIyJTNBMTY4ODg3NTIwMDAwMCU3RCZhcz0mZXhwYW5kX3VuZGVybHlpbmc9ZmFsc2UmbGltaXQ9MTAmb3JkZXI9ZGVzYyZzZXJpZXNfdHlwZT1jbG9zZSZ0aW1lc3Bhbj13ZWVrJnRpbWVzdGFtcC5sdD0xNjg5NDgwMDAwMDAwJndpbmRvdz05'}, 'month': {'status': 'ERROR', 'request_id': '8c48a39e892250ddedc5c7c39ef7a8d8', 'error': \"You've exceeded the maximum requests per minute, please wait or upgrade your subscription to continue. https://polygon.io/pricing\"}}}, 'MACD': {'day': {'results': {'underlying': {'url': 'https://api.polygon.io/v2/aggs/ticker/AAPL/range/1/day/1063281600000/1695371744295?limit=129&sort=desc'}, 'values': [{'timestamp': 1695268800000, 'value': -1.9428570050789062, 'signal': -1.5348204402648615, 'histogram': -0.4080365648140447}, {'timestamp': 1695182400000, 'value': -1.7381521326504696, 'signal': -1.4328112990613502, 'histogram': -0.30534083358911945}, {'timestamp': 1695096000000, 'value': -1.6104284280941386, 'signal': -1.35647609066407, 'histogram': -0.2539523374300685}, {'timestamp': 1695009600000, 'value': -1.7884912135063473, 'signal': -1.2929880063065529, 'histogram': -0.49550320719979446}, {'timestamp': 1694750400000, 'value': -1.8777496601451276, 'signal': -1.1691122045066042, 'histogram': -0.7086374556385233}, {'timestamp': 1694664000000, 'value': -1.662981355161918, 'signal': -0.9919528405969735, 'histogram': -0.6710285145649444}, {'timestamp': 1694577600000, 'value': -1.4389973534537432, 'signal': -0.8241957119557373, 'histogram': -0.614801641498006}, {'timestamp': 1694491200000, 'value': -0.9763996297687356, 'signal': -0.6704953015812358, 'histogram': -0.3059043281874998}, {'timestamp': 1694404800000, 'value': -0.5845545405595942, 'signal': -0.5940192195343609, 'histogram': 0.00946467897476666}, {'timestamp': 1694145600000, 'value': -0.38747874246993774, 'signal': -0.5963853892780525, 'histogram': 0.20890664680811477}]}, 'status': 'OK', 'request_id': '71178b564bc3eaa1353b3a5578181f8b', 'next_url': 'https://api.polygon.io/v1/indicators/macd/AAPL?cursor=YWRqdXN0ZWQ9dHJ1ZSZhcD0lN0IlMjJ2JTIyJTNBMCUyQyUyMm8lMjIlM0EwJTJDJTIyYyUyMiUzQTE3Ny41NiUyQyUyMmglMjIlM0EwJTJDJTIybCUyMiUzQTAlMkMlMjJ0JTIyJTNBMTY5NDA1OTIwMDAwMCU3RCZhcz0mZXhwYW5kX3VuZGVybHlpbmc9ZmFsc2UmbGltaXQ9MTAmbG9uZ193aW5kb3c9MjYmb3JkZXI9ZGVzYyZzZXJpZXNfdHlwZT1jbG9zZSZzaG9ydF93aW5kb3c9MTImc2lnbmFsX3dpbmRvdz05JnRpbWVzcGFuPWRheSZ0aW1lc3RhbXAubHQ9MTY5NDE0NTYwMDAwMA'}, 'week': {'results': {'underlying': {'url': 'https://api.polygon.io/v2/aggs/ticker/AAPL/range/1/week/1063281600000/1695371774605?limit=903&sort=desc'}, 'values': [{'timestamp': 1694923200000, 'value': 3.7198940875009896, 'signal': 6.280008175697029, 'histogram': -2.5601140881960394}, {'timestamp': 1694318400000, 'value': 4.627773593972194, 'signal': 6.9200366977460375, 'histogram': -2.292263103773844}, {'timestamp': 1693713600000, 'value': 5.609281275410382, 'signal': 7.493102473689498, 'histogram': -1.883821198279116}, {'timestamp': 1693108800000, 'value': 6.45768880662186, 'signal': 7.9640577732592766, 'histogram': -1.5063689666374165}, {'timestamp': 1692504000000, 'value': 6.298126218362739, 'signal': 8.34065001491863, 'histogram': -2.0425237965558907}, {'timestamp': 1691899200000, 'value': 7.107584497081291, 'signal': 8.851280964057603, 'histogram': -1.7436964669763118}, {'timestamp': 1691294400000, 'value': 8.456855471051796, 'signal': 9.28720508080168, 'histogram': -0.8303496097498844}, {'timestamp': 1690689600000, 'value': 9.720007070977033, 'signal': 9.49479248323915, 'histogram': 0.2252145877378826}, {'timestamp': 1690084800000, 'value': 10.763229555667351, 'signal': 9.43848883630468, 'histogram': 1.324740719362671}, {'timestamp': 1689480000000, 'value': 10.52904109713512, 'signal': 9.107303656464012, 'histogram': 1.4217374406711087}]}, 'status': 'OK', 'request_id': '648c9c57e58af0f6f3be6fc656ee661a', 'next_url': 'https://api.polygon.io/v1/indicators/macd/AAPL?cursor=YWRqdXN0ZWQ9dHJ1ZSZhcD0lN0IlMjJ2JTIyJTNBMCUyQyUyMm8lMjIlM0EwJTJDJTIyYyUyMiUzQTE5MC42OSUyQyUyMmglMjIlM0EwJTJDJTIybCUyMiUzQTAlMkMlMjJ0JTIyJTNBMTY4ODg3NTIwMDAwMCU3RCZhcz0mZXhwYW5kX3VuZGVybHlpbmc9ZmFsc2UmbGltaXQ9MTAmbG9uZ193aW5kb3c9MjYmb3JkZXI9ZGVzYyZzZXJpZXNfdHlwZT1jbG9zZSZzaG9ydF93aW5kb3c9MTImc2lnbmFsX3dpbmRvdz05JnRpbWVzcGFuPXdlZWsmdGltZXN0YW1wLmx0PTE2ODk0ODAwMDAwMDA'}}, 'RSI': {'day': {'results': {'underlying': {'url': 'https://api.polygon.io/v2/aggs/ticker/AAPL/range/1/day/1063281600000/1695372324690?limit=75&sort=desc'}, 'values': [{'timestamp': 1695268800000, 'value': 40.00912198770393}, {'timestamp': 1695182400000, 'value': 42.18747503770193}, {'timestamp': 1695096000000, 'value': 47.72461391124164}, {'timestamp': 1695009600000, 'value': 45.69085327465677}, {'timestamp': 1694750400000, 'value': 39.842901061133645}, {'timestamp': 1694664000000, 'value': 40.850231181391685}, {'timestamp': 1694577600000, 'value': 37.789179339962025}, {'timestamp': 1694491200000, 'value': 40.44404395335711}, {'timestamp': 1694404800000, 'value': 44.71492941874613}, {'timestamp': 1694145600000, 'value': 42.54229048421663}]}, 'status': 'OK', 'request_id': 'e41c20f1abb77197f72ab51ae4b8640b', 'next_url': 'https://api.polygon.io/v1/indicators/rsi/AAPL?cursor=YWRqdXN0ZWQ9dHJ1ZSZhcD0lN0IlMjJ2JTIyJTNBMCUyQyUyMm8lMjIlM0EwJTJDJTIyYyUyMiUzQTE3Ny41NiUyQyUyMmglMjIlM0EwJTJDJTIybCUyMiUzQTAlMkMlMjJ0JTIyJTNBMTY5NDA1OTIwMDAwMCU3RCZhcz0mZXhwYW5kX3VuZGVybHlpbmc9ZmFsc2UmbGltaXQ9MTAmb3JkZXI9ZGVzYyZzZXJpZXNfdHlwZT1jbG9zZSZ0aW1lc3Bhbj1kYXkmdGltZXN0YW1wLmx0PTE2OTQxNDU2MDAwMDAmd2luZG93PTE0'}, 'week': {'results': {'underlying': {'url': 'https://api.polygon.io/v2/aggs/ticker/AAPL/range/1/week/1063281600000/1695372332419?limit=525&sort=desc'}, 'values': [{'timestamp': 1694923200000, 'value': 48.381788023507944}, {'timestamp': 1694318400000, 'value': 49.217769832271536}, {'timestamp': 1693713600000, 'value': 51.650184498710544}, {'timestamp': 1693108800000, 'value': 61.73068048066266}, {'timestamp': 1692504000000, 'value': 53.651176629976824}, {'timestamp': 1691899200000, 'value': 49.92338423613139}, {'timestamp': 1691294400000, 'value': 53.09980457073382}, {'timestamp': 1690689600000, 'value': 57.41725159101479}, {'timestamp': 1690084800000, 'value': 76.43321530667788}, {'timestamp': 1689480000000, 'value': 74.20340930163331}]}, 'status': 'OK', 'request_id': '3011c37436baeb7f11e7f35ef4d15ffc', 'next_url': 'https://api.polygon.io/v1/indicators/rsi/AAPL?cursor=YWRqdXN0ZWQ9dHJ1ZSZhcD0lN0IlMjJ2JTIyJTNBMCUyQyUyMm8lMjIlM0EwJTJDJTIyYyUyMiUzQTE5MC42OSUyQyUyMmglMjIlM0EwJTJDJTIybCUyMiUzQTAlMkMlMjJ0JTIyJTNBMTY4ODg3NTIwMDAwMCU3RCZhcz0mZXhwYW5kX3VuZGVybHlpbmc9ZmFsc2UmbGltaXQ9MTAmb3JkZXI9ZGVzYyZzZXJpZXNfdHlwZT1jbG9zZSZ0aW1lc3Bhbj13ZWVrJnRpbWVzdGFtcC5sdD0xNjg5NDgwMDAwMDAwJndpbmRvdz0xNA'}, 'month': {'results': {'underlying': {'url': 'https://api.polygon.io/v2/aggs/ticker/AAPL/range/1/month/1063281600000/1695372343295?limit=2325&sort=desc'}, 'values': [{'timestamp': 1693540800000, 'value': 55.63843219312377}, {'timestamp': 1690862400000, 'value': 61.317932238595176}, {'timestamp': 1688184000000, 'value': 65.11692938535151}, {'timestamp': 1685592000000, 'value': 64.52705654205558}, {'timestamp': 1682913600000, 'value': 60.32717835746121}, {'timestamp': 1680321600000, 'value': 58.24900778176874}, {'timestamp': 1677646800000, 'value': 56.92603695824233}, {'timestamp': 1675227600000, 'value': 51.72911820358211}, {'timestamp': 1672549200000, 'value': 50.74473578018551}, {'timestamp': 1669870800000, 'value': 46.0420113221288}]}, 'status': 'OK', 'request_id': '44520f27146e827e7871bc963b754e4e', 'next_url': 'https://api.polygon.io/v1/indicators/rsi/AAPL?cursor=YWRqdXN0ZWQ9dHJ1ZSZhcD0lN0IlMjJ2JTIyJTNBMCUyQyUyMm8lMjIlM0EwJTJDJTIyYyUyMiUzQTE0OC4wMyUyQyUyMmglMjIlM0EwJTJDJTIybCUyMiUzQTAlMkMlMjJ0JTIyJTNBMTY2NzI3NTIwMDAwMCU3RCZhcz0mZXhwYW5kX3VuZGVybHlpbmc9ZmFsc2UmbGltaXQ9MTAmb3JkZXI9ZGVzYyZzZXJpZXNfdHlwZT1jbG9zZSZ0aW1lc3Bhbj1tb250aCZ0aW1lc3RhbXAubHQ9MTY2OTg3MDgwMDAwMCZ3aW5kb3c9MTQ'}}}}\n"
     ]
    }
   ],
   "source": [
    "print(masterData)"
   ]
  },
  {
   "cell_type": "code",
   "execution_count": null,
   "id": "a3bfac1c",
   "metadata": {},
   "outputs": [],
   "source": []
  }
 ],
 "metadata": {
  "kernelspec": {
   "display_name": "Python 3 (ipykernel)",
   "language": "python",
   "name": "python3"
  },
  "language_info": {
   "codemirror_mode": {
    "name": "ipython",
    "version": 3
   },
   "file_extension": ".py",
   "mimetype": "text/x-python",
   "name": "python",
   "nbconvert_exporter": "python",
   "pygments_lexer": "ipython3",
   "version": "3.10.9"
  }
 },
 "nbformat": 4,
 "nbformat_minor": 5
}
