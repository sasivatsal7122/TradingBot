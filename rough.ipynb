{
 "cells": [
  {
   "cell_type": "markdown",
   "id": "ffb00d7c",
   "metadata": {},
   "source": [
    "# Imports"
   ]
  },
  {
   "cell_type": "code",
   "execution_count": 25,
   "id": "37cc8e91",
   "metadata": {},
   "outputs": [],
   "source": [
    "from datetime import datetime, timedelta\n",
    "import requests\n",
    "import configparser"
   ]
  },
  {
   "cell_type": "markdown",
   "id": "765bce11",
   "metadata": {},
   "source": [
    "# Reading config file"
   ]
  },
  {
   "cell_type": "code",
   "execution_count": 33,
   "id": "81a927f5",
   "metadata": {},
   "outputs": [],
   "source": [
    "config.read('config.ini')\n",
    "\n",
    "API_KEY = config['Data']['API_KEY']\n",
    "\n",
    "stocktickers = config['Data']['stockticker'].split(\",\")\n",
    "smaWindows = config['Data']['sma window'].split(\",\")\n",
    "emaWindows = config['Data']['ema window'].split(\",\")\n",
    "timespans = config['Data']['timespan'].split(\",\")"
   ]
  },
  {
   "cell_type": "code",
   "execution_count": 34,
   "id": "c960a4ea",
   "metadata": {},
   "outputs": [
    {
     "name": "stdout",
     "output_type": "stream",
     "text": [
      "['AAPL', 'GOOGL', 'MSFT'] ['50', '200'] ['9', '3'] ['day', 'week', 'month']\n"
     ]
    }
   ],
   "source": [
    "print(stocktickers,smaWindows,emaWindows,timespans)"
   ]
  },
  {
   "cell_type": "markdown",
   "id": "9263c9c3",
   "metadata": {},
   "source": [
    "## Creating SMA Tuples"
   ]
  },
  {
   "cell_type": "code",
   "execution_count": 40,
   "id": "4b38f252",
   "metadata": {},
   "outputs": [
    {
     "name": "stdout",
     "output_type": "stream",
     "text": [
      "('AAPL', '50', 'day')\n",
      "('AAPL', '50', 'week')\n",
      "('AAPL', '50', 'month')\n",
      "('AAPL', '200', 'day')\n",
      "('AAPL', '200', 'week')\n",
      "('AAPL', '200', 'month')\n",
      "('GOOGL', '50', 'day')\n",
      "('GOOGL', '50', 'week')\n",
      "('GOOGL', '50', 'month')\n",
      "('GOOGL', '200', 'day')\n",
      "('GOOGL', '200', 'week')\n",
      "('GOOGL', '200', 'month')\n",
      "('MSFT', '50', 'day')\n",
      "('MSFT', '50', 'week')\n",
      "('MSFT', '50', 'month')\n",
      "('MSFT', '200', 'day')\n",
      "('MSFT', '200', 'week')\n",
      "('MSFT', '200', 'month')\n"
     ]
    }
   ],
   "source": [
    "sma_tuples = []\n",
    "\n",
    "for item1 in stocktickers:\n",
    "    for item2 in smaWindows:\n",
    "        for item3 in timespans:\n",
    "            sma_tuples.append((item1, item2, item3))\n",
    "\n",
    "for tpl in sma_tuples:\n",
    "    print(tpl)"
   ]
  },
  {
   "cell_type": "markdown",
   "id": "fbabb10b",
   "metadata": {},
   "source": [
    "# Creating EMA Tuples"
   ]
  },
  {
   "cell_type": "code",
   "execution_count": 41,
   "id": "b71685ff",
   "metadata": {},
   "outputs": [
    {
     "name": "stdout",
     "output_type": "stream",
     "text": [
      "('AAPL', '9', 'day')\n",
      "('AAPL', '9', 'week')\n",
      "('AAPL', '9', 'month')\n",
      "('AAPL', '3', 'day')\n",
      "('AAPL', '3', 'week')\n",
      "('AAPL', '3', 'month')\n",
      "('GOOGL', '9', 'day')\n",
      "('GOOGL', '9', 'week')\n",
      "('GOOGL', '9', 'month')\n",
      "('GOOGL', '3', 'day')\n",
      "('GOOGL', '3', 'week')\n",
      "('GOOGL', '3', 'month')\n",
      "('MSFT', '9', 'day')\n",
      "('MSFT', '9', 'week')\n",
      "('MSFT', '9', 'month')\n",
      "('MSFT', '3', 'day')\n",
      "('MSFT', '3', 'week')\n",
      "('MSFT', '3', 'month')\n"
     ]
    }
   ],
   "source": [
    "ema_tuples = []\n",
    "\n",
    "for item1 in stocktickers:\n",
    "    for item2 in emaWindows:\n",
    "        for item3 in timespans:\n",
    "            ema_tuples.append((item1, item2, item3))\n",
    "\n",
    "for tpl in ema_tuples:\n",
    "    print(tpl)"
   ]
  },
  {
   "cell_type": "markdown",
   "id": "8269fec4",
   "metadata": {},
   "source": [
    "# Daily Open and Close"
   ]
  },
  {
   "cell_type": "code",
   "execution_count": 28,
   "id": "062d3a6f",
   "metadata": {},
   "outputs": [],
   "source": [
    "def getOpenandClose(stockTicker):\n",
    "    current_date = datetime.now()\n",
    "    day_before = current_date - timedelta(days=1)\n",
    "    TIMESTAMP = day_before.strftime('%Y-%m-%d')\n",
    "    res = requests.get(f\"https://api.polygon.io/v1/open-close/{stockTicker}/{TIMESTAMP}?adjusted=true&apiKey={API_KEY}\")\n",
    "    return res.json()"
   ]
  },
  {
   "cell_type": "markdown",
   "id": "1abc4a8e",
   "metadata": {},
   "source": [
    "# Simple Moving Average"
   ]
  },
  {
   "cell_type": "code",
   "execution_count": null,
   "id": "182461f8",
   "metadata": {},
   "outputs": [],
   "source": [
    "def getSMA(stockTicker,window,timespan):\n",
    "    "
   ]
  }
 ],
 "metadata": {
  "kernelspec": {
   "display_name": "Python 3 (ipykernel)",
   "language": "python",
   "name": "python3"
  },
  "language_info": {
   "codemirror_mode": {
    "name": "ipython",
    "version": 3
   },
   "file_extension": ".py",
   "mimetype": "text/x-python",
   "name": "python",
   "nbconvert_exporter": "python",
   "pygments_lexer": "ipython3",
   "version": "3.10.9"
  }
 },
 "nbformat": 4,
 "nbformat_minor": 5
}
